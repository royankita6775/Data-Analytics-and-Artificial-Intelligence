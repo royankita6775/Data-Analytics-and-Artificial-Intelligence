{
 "cells": [
  {
   "cell_type": "markdown",
   "id": "adb00d1d-860c-4ff7-b090-70fd64e02761",
   "metadata": {},
   "source": [
    "1 Generate two NumPy arrays so that first array has integers from 10 to 40 (inclusive). The second array should have integers from 220 to 250 (inclusive). Sum these arrays and present the resulting array."
   ]
  },
  {
   "cell_type": "code",
   "execution_count": 1,
   "id": "31a8b120-dd66-4ec4-94ad-d943b340d1df",
   "metadata": {},
   "outputs": [
    {
     "name": "stdout",
     "output_type": "stream",
     "text": [
      "[230 232 234 236 238 240 242 244 246 248 250 252 254 256 258 260 262 264\n",
      " 266 268 270 272 274 276 278 280 282 284 286 288 290]\n"
     ]
    }
   ],
   "source": [
    "import numpy as np\n",
    "\n",
    "array1 = np.arange(10, 41)\n",
    "array2 = np.arange(220, 251)\n",
    "result = array1 + array2\n",
    "print(result)"
   ]
  },
  {
   "cell_type": "markdown",
   "id": "c3111f5a-be94-45e5-8d3c-69726b25d33b",
   "metadata": {},
   "source": [
    "2 Generate a two-dimensional array with 10 rows and 7 columns containing integers starting from 100."
   ]
  },
  {
   "cell_type": "code",
   "execution_count": 2,
   "id": "518f9441-a639-4da9-9804-ec478237a5bc",
   "metadata": {},
   "outputs": [
    {
     "name": "stdout",
     "output_type": "stream",
     "text": [
      "[[100 101 102 103 104 105 106]\n",
      " [107 108 109 110 111 112 113]\n",
      " [114 115 116 117 118 119 120]\n",
      " [121 122 123 124 125 126 127]\n",
      " [128 129 130 131 132 133 134]\n",
      " [135 136 137 138 139 140 141]\n",
      " [142 143 144 145 146 147 148]\n",
      " [149 150 151 152 153 154 155]\n",
      " [156 157 158 159 160 161 162]\n",
      " [163 164 165 166 167 168 169]]\n"
     ]
    }
   ],
   "source": [
    "import numpy as np\n",
    "\n",
    "array = np.arange(100, 100+10*7).reshape(10,7)\n",
    "print(array)"
   ]
  },
  {
   "cell_type": "markdown",
   "id": "0ca4cdcf-b2cc-447e-9ae2-bd879ae10a6a",
   "metadata": {},
   "source": [
    "3 Generate two one-dimensional arrays with integers between 1-50. The first array should have even integers. The second array should have odd numbers. Finally, multiply each element from the corresponding index positions from these two arrays for the result array. For example [(1 x 2),(3 x 4),(5 x 6),(7 x 8)...]."
   ]
  },
  {
   "cell_type": "code",
   "execution_count": 3,
   "id": "791e76b2-1714-41f4-a9ed-c3ea7002d122",
   "metadata": {},
   "outputs": [
    {
     "name": "stdout",
     "output_type": "stream",
     "text": [
      "[   2   12   30   56   90  132  182  240  306  380  462  552  650  756\n",
      "  870  992 1122 1260 1406 1560 1722 1892 2070 2256 2450]\n"
     ]
    }
   ],
   "source": [
    "import numpy as np\n",
    "\n",
    "even = np.arange(2, 51, 2)\n",
    "odd = np.arange(1, 51, 2)\n",
    "result = even * odd\n",
    "print(result)\n"
   ]
  },
  {
   "cell_type": "markdown",
   "id": "c34f3ab0-aaec-45ae-a368-33844dfc4a33",
   "metadata": {},
   "source": [
    "4 Generate a two-dimensional array (40 rows, 5 columns) containing random integers between 1 and 1000. Filter the result array so that only numbers divisable by 2 and 5 are present (the numbers must be divisable by both)."
   ]
  },
  {
   "cell_type": "code",
   "execution_count": 5,
   "id": "ba164d4e-0546-4c9f-bc5e-773ea1be1591",
   "metadata": {},
   "outputs": [
    {
     "name": "stdout",
     "output_type": "stream",
     "text": [
      "[770 930 650 800 960 950 230 350 360 530 900 100 820 900 190 550 650  40\n",
      " 850 230 360]\n"
     ]
    }
   ],
   "source": [
    "import numpy as np\n",
    "\n",
    "# generate 2D array\n",
    "array = np.random.randint(1, 1001, size=(40, 5))\n",
    "\n",
    "# filter array so only numbers divisible by 2 and 5 are present\n",
    "result = array[(array % 2 == 0) & (array % 5 == 0)]\n",
    "print(result)"
   ]
  }
 ],
 "metadata": {
  "kernelspec": {
   "display_name": "Python 3 (ipykernel)",
   "language": "python",
   "name": "python3"
  },
  "language_info": {
   "codemirror_mode": {
    "name": "ipython",
    "version": 3
   },
   "file_extension": ".py",
   "mimetype": "text/x-python",
   "name": "python",
   "nbconvert_exporter": "python",
   "pygments_lexer": "ipython3",
   "version": "3.9.13"
  }
 },
 "nbformat": 4,
 "nbformat_minor": 5
}
