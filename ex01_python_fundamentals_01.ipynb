{
 "cells": [
  {
   "cell_type": "markdown",
   "id": "0ee6de3e-a89b-4777-94df-d40cf2672a4c",
   "metadata": {},
   "source": [
    " 1 Sentence is presented in the code cell below. Create a variable which has first ten and last ten characters concatenated."
   ]
  },
  {
   "cell_type": "code",
   "execution_count": 1,
   "id": "372a2aae-ff99-4058-bde2-e8b296e56818",
   "metadata": {},
   "outputs": [
    {
     "name": "stdout",
     "output_type": "stream",
     "text": [
      "Gary must he target.\n"
     ]
    }
   ],
   "source": [
    "# Sentence\n",
    "s = \"Gary must look towards the future in order to gather enough information from the target.\"\n",
    "\n",
    "new_variable = s[:10] + s[-10:]\n",
    "\n",
    "print(new_variable)"
   ]
  },
  {
   "cell_type": "markdown",
   "id": "a884c073-eb6d-4b35-8ce6-fd1b0c2572de",
   "metadata": {},
   "source": [
    "2 Count the number of white spaces between words from the previous sentence and divide that number with the length of the sentence."
   ]
  },
  {
   "cell_type": "code",
   "execution_count": 4,
   "id": "922d13a2-6dd1-4df2-a5b1-23cc7e2bf620",
   "metadata": {},
   "outputs": [
    {
     "name": "stdout",
     "output_type": "stream",
     "text": [
      "14\n",
      "88\n",
      "0.1590909090909091\n"
     ]
    }
   ],
   "source": [
    "spaces_count = s.count(' ')\n",
    "\n",
    "print(spaces_count)\n",
    "print(len(s))\n",
    "print(spaces_count/len(s))"
   ]
  },
  {
   "cell_type": "markdown",
   "id": "b613ac98-6580-4808-ac83-726a80af7205",
   "metadata": {},
   "source": [
    "3 Add the following cars to the existing list of dictionary objects:\n",
    "    - Red Toyota Corolla (1985)\n",
    "    - Lightblue Ford Mustang (1965)\n",
    "    - Black Pontiac Firebird (1987)"
   ]
  },
  {
   "cell_type": "code",
   "execution_count": 1,
   "id": "71e94134-e94c-4c31-86df-12848a0ad8ae",
   "metadata": {},
   "outputs": [
    {
     "name": "stdout",
     "output_type": "stream",
     "text": [
      "[{'make': 'Ford', 'model': 'escort', 'color': 'green', 'year': 1994}, {'make': 'Lexus', 'model': 'IS250', 'color': 'beige', 'year': 2013}, {'make': 'Volvo', 'model': 'S40', 'color': 'blue', 'year': 1998}, {'make': 'Toyota', 'model': 'Corolla', 'color': 'Red', 'year': 1985}, {'make': 'Ford', 'model': 'Mustang', 'color': 'Lightblue', 'year': 1965}, {'make': 'Pontiac', 'model': 'Firebird', 'color': 'Black', 'year': 1987}]\n"
     ]
    }
   ],
   "source": [
    "cars = [{\"make\":\"Ford\",\"model\":\"escort\",\"color\":\"green\",\"year\":1994},\n",
    "        {\"make\":\"Lexus\",\"model\":\"IS250\",\"color\":\"beige\",\"year\":2013},\n",
    "        {\"make\":\"Volvo\",\"model\":\"S40\",\"color\":\"blue\",\"year\":1998}]\n",
    "\n",
    "new_cars = [{\"make\": \"Toyota\", \"model\": \"Corolla\", \"color\": \"Red\", \"year\": 1985},\n",
    "            {\"make\": \"Ford\", \"model\": \"Mustang\", \"color\": \"Lightblue\", \"year\": 1965},\n",
    "            {\"make\": \"Pontiac\", \"model\": \"Firebird\", \"color\": \"Black\", \"year\": 1987}]\n",
    "\n",
    "cars.extend(new_cars)\n",
    "\n",
    "print(cars)"
   ]
  },
  {
   "cell_type": "markdown",
   "id": "d3d0a5b8-007d-4136-9b1c-cddde43d1f64",
   "metadata": {},
   "source": [
    "4 Convert the sentence presented below to list using commas (,) as separators. Then create a new list which contains only the last three items from the list."
   ]
  },
  {
   "cell_type": "code",
   "execution_count": 1,
   "id": "4ed24112-29b1-440b-8561-57f9eee076ca",
   "metadata": {},
   "outputs": [
    {
     "name": "stdout",
     "output_type": "stream",
     "text": [
      "[' ball', ' tip', ' hamburger labore venison consectetur cupidatat.']\n"
     ]
    }
   ],
   "source": [
    "# Sentence\n",
    "s = \"Occaecat short ribs incididunt laboris. Bresaola, brisket ex, landjaeger ad, boudin pariatur frankfurter eu flank. Enim tail short ribs, shoulder duis minim excepteur, deserunt lorem porchetta. Dolor chicken spare ribs, id in, ball, tip, hamburger labore venison consectetur cupidatat.\"\n",
    "list = s.split(\",\")[-3:]\n",
    "print (list)"
   ]
  }
 ],
 "metadata": {
  "kernelspec": {
   "display_name": "Python 3 (ipykernel)",
   "language": "python",
   "name": "python3"
  },
  "language_info": {
   "codemirror_mode": {
    "name": "ipython",
    "version": 3
   },
   "file_extension": ".py",
   "mimetype": "text/x-python",
   "name": "python",
   "nbconvert_exporter": "python",
   "pygments_lexer": "ipython3",
   "version": "3.9.13"
  }
 },
 "nbformat": 4,
 "nbformat_minor": 5
}
