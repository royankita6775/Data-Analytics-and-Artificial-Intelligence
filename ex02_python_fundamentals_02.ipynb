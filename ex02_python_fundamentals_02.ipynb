{
 "cells": [
  {
   "cell_type": "markdown",
   "id": "375a361e-1d7a-44a4-b447-ae8239bafc8a",
   "metadata": {},
   "source": [
    "1 Create a function which will go through a list called **vars** and save the type of each variable to a new list. The starting information is given in the next cell."
   ]
  },
  {
   "cell_type": "code",
   "execution_count": 20,
   "id": "056ffd63-6857-431a-bdb9-3a7ff6e85fdd",
   "metadata": {},
   "outputs": [
    {
     "name": "stdout",
     "output_type": "stream",
     "text": [
      "[<class 'int'>, <class 'str'>, <class 'int'>, <class 'float'>, <class 'list'>, <class 'bool'>, <class 'tuple'>]\n"
     ]
    }
   ],
   "source": [
    "def saveTypes():\n",
    "    types = []\n",
    "    for var in vars:\n",
    "        types.append(type(var))\n",
    "    return types\n",
    "print(saveTypes())\n",
    "# Test\n",
    "vars = [100,\"Car\",25000,10.0,[\"a\",\"b\",\"c\"],True,(\"a\",\"b\")]"
   ]
  },
  {
   "cell_type": "markdown",
   "id": "d14e739e-84db-48c1-bfcb-ab7c24d1facf",
   "metadata": {},
   "source": [
    "2 You are given two lists **l1** and **l2**. Create a function which will take two lists as input and print values that are present in both lists."
   ]
  },
  {
   "cell_type": "code",
   "execution_count": 21,
   "id": "039d7d06-e159-46ba-8f21-1c6e5ef998c8",
   "metadata": {},
   "outputs": [
    {
     "name": "stdout",
     "output_type": "stream",
     "text": [
      "1\n",
      "5\n",
      "7\n",
      "9\n"
     ]
    }
   ],
   "source": [
    "def printsame(list1, list2):\n",
    "    values = []\n",
    "    for x in list1:\n",
    "        for y in list2:\n",
    "            if x == y:\n",
    "                print(x)\n",
    "\n",
    "l1 = [1,4,5,7,8,9,10]\n",
    "l2 = [1,2,3,5,6,7,9]\n",
    "printsame(l1, l2)"
   ]
  },
  {
   "cell_type": "markdown",
   "id": "d545c3df-eac6-4fc8-b4ea-76a805fa9097",
   "metadata": {},
   "source": [
    "3 Below is a list containing words. Create a function which returns only words with length of 4 or less."
   ]
  },
  {
   "cell_type": "code",
   "execution_count": 22,
   "id": "8ee79c41-7cf5-40e1-8378-96dbf54e6f94",
   "metadata": {},
   "outputs": [
    {
     "data": {
      "text/plain": [
       "['code', '', 'red', 'mill', 'are']"
      ]
     },
     "execution_count": 22,
     "metadata": {},
     "output_type": "execute_result"
    }
   ],
   "source": [
    "def lessfour(wordList):\n",
    "    list = []\n",
    "    for x in wordList:\n",
    "        if len(x) <= 4:\n",
    "            list.append(x)\n",
    "    return list\n",
    "\n",
    "# Test\n",
    "words = [\"bootcamp\",\"yellow\",\"development\",\"full-time\",\"code\",\"fresh\",\"\",\"static\",\"red\",\"advance\",\"mill\",\"story\",\"are\"]\n",
    "lessfour(words)"
   ]
  },
  {
   "cell_type": "markdown",
   "id": "e1e9b936-f170-41a5-bcc3-3cd3abfbeefc",
   "metadata": {},
   "source": [
    "4 Create a function which takes does the following:\n",
    "    - Take list of dictionaries containing information of data loggers presented below as an input\n",
    "    - Iterate through the dictionary and count the total amount of each sensor type. Example: {\"temp\":2,\"hum\":5,\"light\":2,\"noise\":4}.\n",
    "    - Return this dictionary"
   ]
  },
  {
   "cell_type": "code",
   "execution_count": 23,
   "id": "75d1fdc6-c35c-4430-ae90-6cca313bfe69",
   "metadata": {},
   "outputs": [
    {
     "name": "stdout",
     "output_type": "stream",
     "text": [
      "{'temp': 5, 'hum': 5, 'noise': 2, 'light': 3}\n"
     ]
    }
   ],
   "source": [
    "# Data loggers\n",
    "sensordata = [{\"ID\":\"logger-1\",\"sensors\":[\"temp\",\"hum\",\"noise\"]},{\"ID\":\"logger-2\",\"sensors\":[\"temp\",\"hum\"]},{\"ID\":\"logger-3\",\"sensors\":[\"temp\",\"hum\",\"light\"]},{\"ID\":\"logger-4\",\"sensors\":[\"temp\",\"hum\",\"light\"]},{\"ID\":\"logger-5\",\"sensors\":[\"temp\",\"hum\",\"noise\",\"light\"]}]\n",
    "def loggers(data):\n",
    "    types = {}\n",
    "    for logger in data:\n",
    "        for sensor in logger[\"sensors\"]:\n",
    "            if sensor in types.keys():\n",
    "                types[sensor] += 1\n",
    "            else:\n",
    "                types[sensor] = 1\n",
    "    return types\n",
    "\n",
    "print(loggers(sensordata))"
   ]
  }
 ],
 "metadata": {
  "kernelspec": {
   "display_name": "Python 3 (ipykernel)",
   "language": "python",
   "name": "python3"
  },
  "language_info": {
   "codemirror_mode": {
    "name": "ipython",
    "version": 3
   },
   "file_extension": ".py",
   "mimetype": "text/x-python",
   "name": "python",
   "nbconvert_exporter": "python",
   "pygments_lexer": "ipython3",
   "version": "3.9.13"
  }
 },
 "nbformat": 4,
 "nbformat_minor": 5
}
